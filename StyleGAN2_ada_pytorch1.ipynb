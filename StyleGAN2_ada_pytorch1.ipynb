{
  "nbformat": 4,
  "nbformat_minor": 0,
  "metadata": {
    "accelerator": "GPU",
    "colab": {
      "name": "StyleGAN2_ada_pytorch.ipynb",
      "provenance": [],
      "collapsed_sections": [],
      "include_colab_link": true
    },
    "kernelspec": {
      "display_name": "Python 3.8.5 64-bit ('base': conda)",
      "name": "python385jvsc74a57bd0dca0ade3e726a953b501b15e8e990130d2b7799f14cfd9f4271676035ebe5511"
    },
    "language_info": {
      "name": "python",
      "version": "3.8.5"
    }
  },
  "cells": [
    {
      "cell_type": "markdown",
      "metadata": {
        "id": "view-in-github",
        "colab_type": "text"
      },
      "source": [
        "<a href=\"https://colab.research.google.com/github/Asphalt2017/GANs/blob/main/StyleGAN2_ada_pytorch1.ipynb\" target=\"_parent\"><img src=\"https://colab.research.google.com/assets/colab-badge.svg\" alt=\"Open In Colab\"/></a>"
      ]
    },
    {
      "cell_type": "markdown",
      "metadata": {
        "id": "DCZXlXmj2Rsa"
      },
      "source": [
        "Make sure you have a GPU available:"
      ]
    },
    {
      "cell_type": "code",
      "metadata": {
        "colab": {
          "base_uri": "https://localhost:8080/"
        },
        "id": "LRwrZ68bFoZx",
        "outputId": "880a7dcc-f7f2-4063-c99c-1c671eaaaaed"
      },
      "source": [
        "gpu_info = !nvidia-smi\n",
        "gpu_info = '\\n'.join(gpu_info)\n",
        "if gpu_info.find('failed') >= 0:\n",
        "  print('Select the Runtime > \"Change runtime type\" menu to enable a GPU accelerator, ')\n",
        "  print('and then re-execute this cell.')\n",
        "else:\n",
        "  print(gpu_info)"
      ],
      "execution_count": null,
      "outputs": [
        {
          "output_type": "stream",
          "text": [
            "Thu May 27 10:48:20 2021       \n",
            "+-----------------------------------------------------------------------------+\n",
            "| NVIDIA-SMI 465.19.01    Driver Version: 460.32.03    CUDA Version: 11.2     |\n",
            "|-------------------------------+----------------------+----------------------+\n",
            "| GPU  Name        Persistence-M| Bus-Id        Disp.A | Volatile Uncorr. ECC |\n",
            "| Fan  Temp  Perf  Pwr:Usage/Cap|         Memory-Usage | GPU-Util  Compute M. |\n",
            "|                               |                      |               MIG M. |\n",
            "|===============================+======================+======================|\n",
            "|   0  Tesla P100-PCIE...  Off  | 00000000:00:04.0 Off |                    0 |\n",
            "| N/A   65C    P0    32W / 250W |      0MiB / 16280MiB |      0%      Default |\n",
            "|                               |                      |                  N/A |\n",
            "+-------------------------------+----------------------+----------------------+\n",
            "                                                                               \n",
            "+-----------------------------------------------------------------------------+\n",
            "| Processes:                                                                  |\n",
            "|  GPU   GI   CI        PID   Type   Process name                  GPU Memory |\n",
            "|        ID   ID                                                   Usage      |\n",
            "|=============================================================================|\n",
            "|  No running processes found                                                 |\n",
            "+-----------------------------------------------------------------------------+\n"
          ],
          "name": "stdout"
        }
      ]
    },
    {
      "cell_type": "markdown",
      "metadata": {
        "id": "B6S8aC422Rsd"
      },
      "source": [
        "link your Google Drive"
      ]
    },
    {
      "cell_type": "code",
      "metadata": {
        "colab": {
          "base_uri": "https://localhost:8080/"
        },
        "id": "TLDpAYFXFs-1",
        "outputId": "4f1b192b-7259-484b-8eef-071e4f4bdff4"
      },
      "source": [
        "from google.colab import drive\n",
        "drive.mount('/content/gdrive', force_remount=True)"
      ],
      "execution_count": null,
      "outputs": [
        {
          "output_type": "stream",
          "text": [
            "Mounted at /content/gdrive\n"
          ],
          "name": "stdout"
        }
      ]
    },
    {
      "cell_type": "markdown",
      "metadata": {
        "id": "I-0wNIo82Rsd"
      },
      "source": [
        "install requirements"
      ]
    },
    {
      "cell_type": "code",
      "metadata": {
        "colab": {
          "base_uri": "https://localhost:8080/"
        },
        "id": "V6E2pxP2p6x7",
        "outputId": "f2c74aa0-c378-497c-a769-4f84bf76d221"
      },
      "source": [
        "!pip install torch==1.7.1+cu110 torchvision==0.8.2+cu110 torchaudio==0.7.2 -f https://download.pytorch.org/whl/torch_stable.html"
      ],
      "execution_count": null,
      "outputs": [
        {
          "output_type": "stream",
          "text": [
            "Looking in links: https://download.pytorch.org/whl/torch_stable.html\n",
            "Requirement already satisfied: torch==1.7.1+cu110 in /usr/local/lib/python3.7/dist-packages (1.7.1+cu110)\n",
            "Requirement already satisfied: torchvision==0.8.2+cu110 in /usr/local/lib/python3.7/dist-packages (0.8.2+cu110)\n",
            "Requirement already satisfied: torchaudio==0.7.2 in /usr/local/lib/python3.7/dist-packages (0.7.2)\n",
            "Requirement already satisfied: typing-extensions in /usr/local/lib/python3.7/dist-packages (from torch==1.7.1+cu110) (3.7.4.3)\n",
            "Requirement already satisfied: numpy in /usr/local/lib/python3.7/dist-packages (from torch==1.7.1+cu110) (1.19.5)\n",
            "Requirement already satisfied: pillow>=4.1.1 in /usr/local/lib/python3.7/dist-packages (from torchvision==0.8.2+cu110) (7.1.2)\n"
          ],
          "name": "stdout"
        }
      ]
    },
    {
      "cell_type": "code",
      "metadata": {
        "colab": {
          "base_uri": "https://localhost:8080/"
        },
        "id": "d1LFDcCxp_Ob",
        "outputId": "a6b3bf10-9d30-4276-b23c-89d521ff4e9a"
      },
      "source": [
        "!pip install click requests tqdm pyspng ninja imageio-ffmpeg==0.4.\n"
      ],
      "execution_count": null,
      "outputs": [
        {
          "output_type": "stream",
          "text": [
            "Requirement already satisfied: click in /usr/local/lib/python3.7/dist-packages (7.1.2)\n",
            "Requirement already satisfied: requests in /usr/local/lib/python3.7/dist-packages (2.23.0)\n",
            "Requirement already satisfied: tqdm in /usr/local/lib/python3.7/dist-packages (4.41.1)\n",
            "Requirement already satisfied: pyspng in /usr/local/lib/python3.7/dist-packages (0.1.0)\n",
            "Requirement already satisfied: ninja in /usr/local/lib/python3.7/dist-packages (1.10.0.post2)\n",
            "Requirement already satisfied: imageio-ffmpeg==0.4. in /usr/local/lib/python3.7/dist-packages (0.4.0)\n",
            "Requirement already satisfied: chardet<4,>=3.0.2 in /usr/local/lib/python3.7/dist-packages (from requests) (3.0.4)\n",
            "Requirement already satisfied: idna<3,>=2.5 in /usr/local/lib/python3.7/dist-packages (from requests) (2.10)\n",
            "Requirement already satisfied: urllib3!=1.25.0,!=1.25.1,<1.26,>=1.21.1 in /usr/local/lib/python3.7/dist-packages (from requests) (1.24.3)\n",
            "Requirement already satisfied: certifi>=2017.4.17 in /usr/local/lib/python3.7/dist-packages (from requests) (2020.12.5)\n",
            "Requirement already satisfied: numpy in /usr/local/lib/python3.7/dist-packages (from pyspng) (1.19.5)\n"
          ],
          "name": "stdout"
        }
      ]
    },
    {
      "cell_type": "markdown",
      "metadata": {
        "id": "rBwZ6mkD2Rse"
      },
      "source": [
        "Define directories"
      ]
    },
    {
      "cell_type": "code",
      "metadata": {
        "id": "UnHzq6D72Rsf"
      },
      "source": [
        "# you can download the dataset here: https://drive.google.com/file/d/1BPxV_4hFck6pgfxo6CpDYIso0Daw2D5b/view?usp=sharing\n"
      ],
      "execution_count": null,
      "outputs": []
    },
    {
      "cell_type": "code",
      "metadata": {
        "id": "XAyKtFEV2Rsf"
      },
      "source": [
        "## HINT: HERE YOU COULD CALL THE GAMMA CALCULATOR SCRIPT"
      ],
      "execution_count": null,
      "outputs": []
    },
    {
      "cell_type": "markdown",
      "metadata": {
        "id": "UJyVAV4w2Rsf"
      },
      "source": [
        "change into StyleGAN dir"
      ]
    },
    {
      "cell_type": "code",
      "metadata": {
        "colab": {
          "base_uri": "https://localhost:8080/"
        },
        "id": "fMmk6HEwMxCU",
        "outputId": "66b6fe70-87e3-4944-c927-17c931613868"
      },
      "source": [
        "'''%cd ~\n",
        "!pwd\n",
        "import os\n",
        "os.chdir('/content/gdrive/My Drive/Colab Notebooks')\n",
        "!pwd'''"
      ],
      "execution_count": null,
      "outputs": [
        {
          "output_type": "stream",
          "text": [
            "/root\n",
            "/root\n",
            "/content/gdrive/My Drive/Colab Notebooks\n"
          ],
          "name": "stdout"
        }
      ]
    },
    {
      "cell_type": "markdown",
      "metadata": {
        "id": "nyvKa6WQ4OOS"
      },
      "source": [
        "#Let's modify the director\n",
        "\n",
        "> Indented block\n",
        "\n"
      ]
    },
    {
      "cell_type": "code",
      "metadata": {
        "colab": {
          "base_uri": "https://localhost:8080/"
        },
        "id": "hTxzFhJrQ2lr",
        "outputId": "76a23725-c93f-4154-d44a-adf69b9e90b8"
      },
      "source": [
        "CHALLENGE_DIR = '/content/gdrive/MyDrive/Colab Notebooks/challenge-main'\n",
        "SG2_ADA_DIR   = CHALLENGE_DIR + '/stylegan2-ada-pytorch/'\n",
        "\n",
        "print('CHALLENGE_DIR : ',CHALLENGE_DIR)\n",
        "print('SG2_ADA_DIR: ',SG2_ADA_DIR)\n",
        "\n",
        "%cd {SG2_ADA_DIR}\n",
        "!pwd\n",
        "\n",
        "!python train.py --help\n"
      ],
      "execution_count": null,
      "outputs": [
        {
          "output_type": "stream",
          "text": [
            "CHALLENGE_DIR :  /content/gdrive/MyDrive/Colab Notebooks/challenge-main\n",
            "SG2_ADA_DIR:  /content/gdrive/MyDrive/Colab Notebooks/challenge-main/stylegan2-ada-pytorch/\n",
            "/content/gdrive/MyDrive/Colab Notebooks/challenge-main/stylegan2-ada-pytorch\n",
            "/content/gdrive/MyDrive/Colab Notebooks/challenge-main/stylegan2-ada-pytorch\n",
            "Usage: train.py [OPTIONS]\n",
            "\n",
            "  Train a GAN using the techniques described in\n",
            "  the paper \"Training Generative Adversarial\n",
            "  Networks with Limited Data\".\n",
            "\n",
            "  Examples:\n",
            "\n",
            "  # Train with custom dataset using 1 GPU.\n",
            "  python train.py --outdir=~/training-runs --data=~/mydataset.zip --gpus=1\n",
            "\n",
            "  # Train class-conditional CIFAR-10 using 2 GPUs.\n",
            "  python train.py --outdir=~/training-runs --data=~/datasets/cifar10.zip \\\n",
            "      --gpus=2 --cfg=cifar --cond=1\n",
            "\n",
            "  # Transfer learn MetFaces from FFHQ using 4 GPUs.\n",
            "  python train.py --outdir=~/training-runs --data=~/datasets/metfaces.zip \\\n",
            "      --gpus=4 --cfg=paper1024 --mirror=1 --resume=ffhq1024 --snap=10\n",
            "\n",
            "  # Reproduce original StyleGAN2 config F.\n",
            "  python train.py --outdir=~/training-runs --data=~/datasets/ffhq.zip \\\n",
            "      --gpus=8 --cfg=stylegan2 --mirror=1 --aug=noaug\n",
            "\n",
            "  Base configs (--cfg):\n",
            "    auto       Automatically select reasonable defaults based on resolution\n",
            "               and GPU count. Good starting point for new datasets.\n",
            "    stylegan2  Reproduce results for StyleGAN2 config F at 1024x1024.\n",
            "    paper256   Reproduce results for FFHQ and LSUN Cat at 256x256.\n",
            "    paper512   Reproduce results for BreCaHAD and AFHQ at 512x512.\n",
            "    paper1024  Reproduce results for MetFaces at 1024x1024.\n",
            "    cifar      Reproduce results for CIFAR-10 at 32x32.\n",
            "\n",
            "  Transfer learning source networks (--resume):\n",
            "    ffhq256        FFHQ trained at 256x256 resolution.\n",
            "    ffhq512        FFHQ trained at 512x512 resolution.\n",
            "    ffhq1024       FFHQ trained at 1024x1024 resolution.\n",
            "    celebahq256    CelebA-HQ trained at 256x256 resolution.\n",
            "    lsundog256     LSUN Dog trained at 256x256 resolution.\n",
            "    <PATH or URL>  Custom network pickle.\n",
            "\n",
            "Options:\n",
            "  --outdir DIR                    Where to save\n",
            "                                  the results\n",
            "                                  [required]\n",
            "\n",
            "  --gpus INT                      Number of GPUs\n",
            "                                  to use [default:\n",
            "                                  1]\n",
            "\n",
            "  --snap INT                      Snapshot\n",
            "                                  interval\n",
            "                                  [default: 50\n",
            "                                  ticks]\n",
            "\n",
            "  --metrics LIST                  Comma-separated\n",
            "                                  list or \"none\"\n",
            "                                  [default:\n",
            "                                  fid50k_full]\n",
            "\n",
            "  --seed INT                      Random seed\n",
            "                                  [default: 0]\n",
            "\n",
            "  -n, --dry-run                   Print training\n",
            "                                  options and exit\n",
            "\n",
            "  --data PATH                     Training data\n",
            "                                  (directory or\n",
            "                                  zip)  [required]\n",
            "\n",
            "  --cond BOOL                     Train\n",
            "                                  conditional\n",
            "                                  model based on\n",
            "                                  dataset labels\n",
            "                                  [default: false]\n",
            "\n",
            "  --subset INT                    Train with only\n",
            "                                  N images\n",
            "                                  [default: all]\n",
            "\n",
            "  --mirror BOOL                   Enable dataset\n",
            "                                  x-flips\n",
            "                                  [default: false]\n",
            "\n",
            "  --cfg [auto|stylegan2|paper256|paper512|paper1024|cifar]\n",
            "                                  Base config\n",
            "                                  [default: auto]\n",
            "\n",
            "  --gamma FLOAT                   Override R1\n",
            "                                  gamma\n",
            "\n",
            "  --kimg INT                      Override\n",
            "                                  training\n",
            "                                  duration\n",
            "\n",
            "  --batch INT                     Override batch\n",
            "                                  size\n",
            "\n",
            "  --aug [noaug|ada|fixed]         Augmentation\n",
            "                                  mode [default:\n",
            "                                  ada]\n",
            "\n",
            "  --p FLOAT                       Augmentation\n",
            "                                  probability for\n",
            "                                  --aug=fixed\n",
            "\n",
            "  --target FLOAT                  ADA target value\n",
            "                                  for --aug=ada\n",
            "\n",
            "  --augpipe [blit|geom|color|filter|noise|cutout|bg|bgc|bgcf|bgcfn|bgcfnc]\n",
            "                                  Augmentation\n",
            "                                  pipeline\n",
            "                                  [default: bgc]\n",
            "\n",
            "  --resume PKL                    Resume training\n",
            "                                  [default:\n",
            "                                  noresume]\n",
            "\n",
            "  --freezed INT                   Freeze-D\n",
            "                                  [default: 0\n",
            "                                  layers]\n",
            "\n",
            "  --fp32 BOOL                     Disable mixed-\n",
            "                                  precision\n",
            "                                  training\n",
            "\n",
            "  --nhwc BOOL                     Use NHWC memory\n",
            "                                  format with FP16\n",
            "\n",
            "  --nobench BOOL                  Disable cuDNN\n",
            "                                  benchmarking\n",
            "\n",
            "  --allow-tf32 BOOL               Allow PyTorch to\n",
            "                                  use TF32\n",
            "                                  internally\n",
            "\n",
            "  --workers INT                   Override number\n",
            "                                  of DataLoader\n",
            "                                  workers\n",
            "\n",
            "  -t, --telegram_id INT           Telegram ID,\n",
            "                                  which enables\n",
            "                                  training updates\n",
            "                                  via telegram\n",
            "\n",
            "  --store_z BOOL                  stores z values\n",
            "                                  for futre\n",
            "                                  reference\n",
            "\n",
            "  --help                          Show this\n",
            "                                  message and\n",
            "                                  exit.\n"
          ],
          "name": "stdout"
        }
      ]
    },
    {
      "cell_type": "code",
      "metadata": {
        "id": "SmivWKwwWqTq"
      },
      "source": [
        "DATASET = 'landscapes_roudra_128x128.zip'\n",
        "OUT_DIR = 'Results/'"
      ],
      "execution_count": null,
      "outputs": []
    },
    {
      "cell_type": "code",
      "metadata": {
        "id": "mvRc1ZMnSGhz"
      },
      "source": [
        "import gamma_calculator as gmc"
      ],
      "execution_count": null,
      "outputs": []
    },
    {
      "cell_type": "code",
      "metadata": {
        "id": "PINvLCN8SKMS"
      },
      "source": [
        "gamma_val = gmc.select_gamma(64,65536)"
      ],
      "execution_count": null,
      "outputs": []
    },
    {
      "cell_type": "code",
      "metadata": {
        "colab": {
          "base_uri": "https://localhost:8080/"
        },
        "id": "nxgw5Op3W9AR",
        "outputId": "d081d19f-b4b2-4815-be96-06ab158d1faf"
      },
      "source": [
        "gamma_val"
      ],
      "execution_count": null,
      "outputs": [
        {
          "output_type": "execute_result",
          "data": {
            "text/plain": [
              "0.23405714285714288"
            ]
          },
          "metadata": {
            "tags": []
          },
          "execution_count": 21
        }
      ]
    },
    {
      "cell_type": "code",
      "metadata": {
        "colab": {
          "base_uri": "https://localhost:8080/"
        },
        "id": "SlJPz92eZdYp",
        "outputId": "a80831c2-a7d0-4740-da41-76f749e34fb1"
      },
      "source": [
        "!git clone 'https://github.com/Asphalt2017/GANs.git'"
      ],
      "execution_count": null,
      "outputs": [
        {
          "output_type": "stream",
          "text": [
            "Cloning into 'GANs'...\n",
            "remote: Enumerating objects: 3, done.\u001b[K\n",
            "remote: Counting objects: 100% (3/3), done.\u001b[K\n",
            "remote: Compressing objects: 100% (3/3), done.\u001b[K\n",
            "remote: Total 3 (delta 0), reused 0 (delta 0), pack-reused 0\u001b[K\n",
            "Unpacking objects: 100% (3/3), done.\n"
          ],
          "name": "stdout"
        }
      ]
    },
    {
      "cell_type": "code",
      "metadata": {
        "colab": {
          "base_uri": "https://localhost:8080/"
        },
        "id": "xckc6qXIvT1x",
        "outputId": "3240f7e5-9b9d-4066-8ba5-9f3cc6d0fcb6"
      },
      "source": [
        "\"\"\"\n",
        "you can change the frequency at which pickles and intermediate results are generated using --snap=.... But depending on how much stuff there is in your drive you'll have to keep deleting older pickles you don't need any longer. Each pickle is about 250MB in size.\n",
        "For everything else, please refer to train.py --help or the original repo, which explains each parameter in more detail.\n",
        "\"\"\"\n",
        "\n",
        "!python train.py --gpus=1 --data={DATASET} --outdir={OUT_DIR} --snap=5 --gamma={gamma_val}\n"
      ],
      "execution_count": null,
      "outputs": [
        {
          "output_type": "stream",
          "text": [
            "\n",
            "Training options:\n",
            "{\n",
            "  \"store_z\": null,\n",
            "  \"telegram_id\": null,\n",
            "  \"num_gpus\": 1,\n",
            "  \"image_snapshot_ticks\": 5,\n",
            "  \"network_snapshot_ticks\": 5,\n",
            "  \"metrics\": [\n",
            "    \"fid50k_full\"\n",
            "  ],\n",
            "  \"random_seed\": 0,\n",
            "  \"training_set_kwargs\": {\n",
            "    \"class_name\": \"training.dataset.ImageFolderDataset\",\n",
            "    \"path\": \"landscapes_roudra_128x128.zip\",\n",
            "    \"use_labels\": false,\n",
            "    \"max_size\": 6236,\n",
            "    \"xflip\": false,\n",
            "    \"resolution\": 128\n",
            "  },\n",
            "  \"data_loader_kwargs\": {\n",
            "    \"pin_memory\": true,\n",
            "    \"num_workers\": 3,\n",
            "    \"prefetch_factor\": 2\n",
            "  },\n",
            "  \"G_kwargs\": {\n",
            "    \"class_name\": \"training.networks.Generator\",\n",
            "    \"z_dim\": 512,\n",
            "    \"w_dim\": 512,\n",
            "    \"mapping_kwargs\": {\n",
            "      \"num_layers\": 2\n",
            "    },\n",
            "    \"synthesis_kwargs\": {\n",
            "      \"channel_base\": 16384,\n",
            "      \"channel_max\": 512,\n",
            "      \"num_fp16_res\": 4,\n",
            "      \"conv_clamp\": 256\n",
            "    }\n",
            "  },\n",
            "  \"D_kwargs\": {\n",
            "    \"class_name\": \"training.networks.Discriminator\",\n",
            "    \"block_kwargs\": {},\n",
            "    \"mapping_kwargs\": {},\n",
            "    \"epilogue_kwargs\": {\n",
            "      \"mbstd_group_size\": 4\n",
            "    },\n",
            "    \"channel_base\": 16384,\n",
            "    \"channel_max\": 512,\n",
            "    \"num_fp16_res\": 4,\n",
            "    \"conv_clamp\": 256\n",
            "  },\n",
            "  \"G_opt_kwargs\": {\n",
            "    \"class_name\": \"torch.optim.Adam\",\n",
            "    \"lr\": 0.0025,\n",
            "    \"betas\": [\n",
            "      0,\n",
            "      0.99\n",
            "    ],\n",
            "    \"eps\": 1e-08\n",
            "  },\n",
            "  \"D_opt_kwargs\": {\n",
            "    \"class_name\": \"torch.optim.Adam\",\n",
            "    \"lr\": 0.0025,\n",
            "    \"betas\": [\n",
            "      0,\n",
            "      0.99\n",
            "    ],\n",
            "    \"eps\": 1e-08\n",
            "  },\n",
            "  \"loss_kwargs\": {\n",
            "    \"class_name\": \"training.loss.StyleGAN2Loss\",\n",
            "    \"r1_gamma\": 0.23405714285714288\n",
            "  },\n",
            "  \"total_kimg\": 25000,\n",
            "  \"batch_size\": 32,\n",
            "  \"batch_gpu\": 32,\n",
            "  \"ema_kimg\": 10.0,\n",
            "  \"ema_rampup\": 0.05,\n",
            "  \"ada_target\": 0.6,\n",
            "  \"augment_kwargs\": {\n",
            "    \"class_name\": \"training.augment.AugmentPipe\",\n",
            "    \"xflip\": 1,\n",
            "    \"rotate90\": 1,\n",
            "    \"xint\": 1,\n",
            "    \"scale\": 1,\n",
            "    \"rotate\": 1,\n",
            "    \"aniso\": 1,\n",
            "    \"xfrac\": 1,\n",
            "    \"brightness\": 1,\n",
            "    \"contrast\": 1,\n",
            "    \"lumaflip\": 1,\n",
            "    \"hue\": 1,\n",
            "    \"saturation\": 1\n",
            "  },\n",
            "  \"run_dir\": \"Results/00014-landscapes_roudra_128x128-auto1-gamma0.234057\"\n",
            "}\n",
            "\n",
            "Output directory:   Results/00014-landscapes_roudra_128x128-auto1-gamma0.234057\n",
            "Training data:      landscapes_roudra_128x128.zip\n",
            "Training duration:  25000 kimg\n",
            "Number of GPUs:     1\n",
            "Number of images:   6236\n",
            "Image resolution:   128\n",
            "Conditional model:  False\n",
            "Dataset x-flips:    False\n",
            "\n",
            "Creating output directory...\n",
            "Launching processes...\n",
            "Loading training set...\n",
            "\n",
            "Num images:  6236\n",
            "Image shape: [3, 128, 128]\n",
            "Label shape: [0]\n",
            "\n",
            "Constructing networks...\n",
            "Setting up PyTorch plugin \"bias_act_plugin\"... Done.\n",
            "Setting up PyTorch plugin \"upfirdn2d_plugin\"... Done.\n",
            "\n",
            "Generator             Parameters  Buffers  Output shape         Datatype\n",
            "---                   ---         ---      ---                  ---     \n",
            "mapping.fc0           262656      -        [32, 512]            float32 \n",
            "mapping.fc1           262656      -        [32, 512]            float32 \n",
            "mapping               -           512      [32, 12, 512]        float32 \n",
            "synthesis.b4.conv1    2622465     32       [32, 512, 4, 4]      float32 \n",
            "synthesis.b4.torgb    264195      -        [32, 3, 4, 4]        float32 \n",
            "synthesis.b4:0        8192        16       [32, 512, 4, 4]      float32 \n",
            "synthesis.b4:1        -           -        [32, 512, 4, 4]      float32 \n",
            "synthesis.b8.conv0    2622465     80       [32, 512, 8, 8]      float32 \n",
            "synthesis.b8.conv1    2622465     80       [32, 512, 8, 8]      float32 \n",
            "synthesis.b8.torgb    264195      -        [32, 3, 8, 8]        float32 \n",
            "synthesis.b8:0        -           16       [32, 512, 8, 8]      float32 \n",
            "synthesis.b8:1        -           -        [32, 512, 8, 8]      float32 \n",
            "synthesis.b16.conv0   2622465     272      [32, 512, 16, 16]    float16 \n",
            "synthesis.b16.conv1   2622465     272      [32, 512, 16, 16]    float16 \n",
            "synthesis.b16.torgb   264195      -        [32, 3, 16, 16]      float16 \n",
            "synthesis.b16:0       -           16       [32, 512, 16, 16]    float16 \n",
            "synthesis.b16:1       -           -        [32, 512, 16, 16]    float32 \n",
            "synthesis.b32.conv0   2622465     1040     [32, 512, 32, 32]    float16 \n",
            "synthesis.b32.conv1   2622465     1040     [32, 512, 32, 32]    float16 \n",
            "synthesis.b32.torgb   264195      -        [32, 3, 32, 32]      float16 \n",
            "synthesis.b32:0       -           16       [32, 512, 32, 32]    float16 \n",
            "synthesis.b32:1       -           -        [32, 512, 32, 32]    float32 \n",
            "synthesis.b64.conv0   1442561     4112     [32, 256, 64, 64]    float16 \n",
            "synthesis.b64.conv1   721409      4112     [32, 256, 64, 64]    float16 \n",
            "synthesis.b64.torgb   132099      -        [32, 3, 64, 64]      float16 \n",
            "synthesis.b64:0       -           16       [32, 256, 64, 64]    float16 \n",
            "synthesis.b64:1       -           -        [32, 256, 64, 64]    float32 \n",
            "synthesis.b128.conv0  426369      16400    [32, 128, 128, 128]  float16 \n",
            "synthesis.b128.conv1  213249      16400    [32, 128, 128, 128]  float16 \n",
            "synthesis.b128.torgb  66051       -        [32, 3, 128, 128]    float16 \n",
            "synthesis.b128:0      -           16       [32, 128, 128, 128]  float16 \n",
            "synthesis.b128:1      -           -        [32, 128, 128, 128]  float32 \n",
            "---                   ---         ---      ---                  ---     \n",
            "Total                 22949277    44448    -                    -       \n",
            "\n",
            "\n",
            "Discriminator  Parameters  Buffers  Output shape         Datatype\n",
            "---            ---         ---      ---                  ---     \n",
            "b128.fromrgb   512         16       [32, 128, 128, 128]  float16 \n",
            "b128.skip      32768       16       [32, 256, 64, 64]    float16 \n",
            "b128.conv0     147584      16       [32, 128, 128, 128]  float16 \n",
            "b128.conv1     295168      16       [32, 256, 64, 64]    float16 \n",
            "b128           -           16       [32, 256, 64, 64]    float16 \n",
            "b64.skip       131072      16       [32, 512, 32, 32]    float16 \n",
            "b64.conv0      590080      16       [32, 256, 64, 64]    float16 \n",
            "b64.conv1      1180160     16       [32, 512, 32, 32]    float16 \n",
            "b64            -           16       [32, 512, 32, 32]    float16 \n",
            "b32.skip       262144      16       [32, 512, 16, 16]    float16 \n",
            "b32.conv0      2359808     16       [32, 512, 32, 32]    float16 \n",
            "b32.conv1      2359808     16       [32, 512, 16, 16]    float16 \n",
            "b32            -           16       [32, 512, 16, 16]    float16 \n",
            "b16.skip       262144      16       [32, 512, 8, 8]      float16 \n",
            "b16.conv0      2359808     16       [32, 512, 16, 16]    float16 \n",
            "b16.conv1      2359808     16       [32, 512, 8, 8]      float16 \n",
            "b16            -           16       [32, 512, 8, 8]      float16 \n",
            "b8.skip        262144      16       [32, 512, 4, 4]      float32 \n",
            "b8.conv0       2359808     16       [32, 512, 8, 8]      float32 \n",
            "b8.conv1       2359808     16       [32, 512, 4, 4]      float32 \n",
            "b8             -           16       [32, 512, 4, 4]      float32 \n",
            "b4.mbstd       -           -        [32, 513, 4, 4]      float32 \n",
            "b4.conv        2364416     16       [32, 512, 4, 4]      float32 \n",
            "b4.fc          4194816     -        [32, 512]            float32 \n",
            "b4.out         513         -        [32, 1]              float32 \n",
            "---            ---         ---      ---                  ---     \n",
            "Total          23882369    352      -                    -       \n",
            "\n",
            "Setting up augmentation...\n",
            "Distributing across 1 GPUs...\n",
            "Setting up training phases...\n",
            "Exporting sample images...\n",
            "Initializing logs...\n",
            "2021-05-27 15:06:47.978116: I tensorflow/stream_executor/platform/default/dso_loader.cc:53] Successfully opened dynamic library libcudart.so.11.0\n",
            "Training for 25000 kimg...\n",
            "\n",
            "tick 0     kimg 0.0      time 36s          sec/tick 6.7     sec/kimg 209.78  maintenance 29.6   cpumem 4.14   gpumem 12.29  augment 0.000\n",
            "\n",
            "Aborted!\n"
          ],
          "name": "stdout"
        }
      ]
    },
    {
      "cell_type": "markdown",
      "metadata": {
        "id": "MDVB3OhsjnAz"
      },
      "source": [
        ""
      ]
    }
  ]
}